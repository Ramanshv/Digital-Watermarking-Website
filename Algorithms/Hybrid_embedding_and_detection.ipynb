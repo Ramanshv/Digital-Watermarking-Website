{
  "nbformat": 4,
  "nbformat_minor": 0,
  "metadata": {
    "colab": {
      "provenance": []
    },
    "kernelspec": {
      "name": "python3",
      "display_name": "Python 3"
    },
    "language_info": {
      "name": "python"
    }
  },
  "cells": [
    {
      "cell_type": "markdown",
      "source": [
        "**HYBRID WATERMARK EMBEDDING**"
      ],
      "metadata": {
        "id": "e1fDhW6SwWYq"
      }
    },
    {
      "cell_type": "code",
      "source": [
        "pip install PyWavelets\n"
      ],
      "metadata": {
        "colab": {
          "base_uri": "https://localhost:8080/"
        },
        "id": "BIYImW64wlx2",
        "outputId": "d337f59b-5e21-4bc3-c729-bca18e462be1"
      },
      "execution_count": 5,
      "outputs": [
        {
          "output_type": "stream",
          "name": "stdout",
          "text": [
            "Requirement already satisfied: PyWavelets in /usr/local/lib/python3.12/dist-packages (1.9.0)\n",
            "Requirement already satisfied: numpy<3,>=1.25 in /usr/local/lib/python3.12/dist-packages (from PyWavelets) (2.0.2)\n"
          ]
        }
      ]
    },
    {
      "cell_type": "code",
      "source": [
        "# hybrid_dwt_dct_embed_color.py\n",
        "import cv2\n",
        "import numpy as np\n",
        "import pywt\n",
        "\n",
        "def hybrid_dwt_dct_embed_color(cover_path, watermark_path, output_path, alpha=0.1):\n",
        "    # Step 1: Read images\n",
        "    cover = cv2.imread(cover_path)\n",
        "    watermark = cv2.imread(watermark_path, cv2.IMREAD_GRAYSCALE)\n",
        "    if cover is None or watermark is None:\n",
        "        raise FileNotFoundError(\"Check your image paths!\")\n",
        "\n",
        "    # Step 2: Resize images\n",
        "    cover = cv2.resize(cover, (512, 512))\n",
        "    watermark = cv2.resize(watermark, (128, 128))\n",
        "\n",
        "    # Step 3: Convert to YCrCb and split\n",
        "    ycrcb = cv2.cvtColor(cover, cv2.COLOR_BGR2YCrCb)\n",
        "    Y, Cr, Cb = cv2.split(ycrcb)\n",
        "\n",
        "    # Step 4: Apply DWT on Y channel\n",
        "    LL, (LH, HL, HH) = pywt.dwt2(np.float32(Y), 'haar')\n",
        "\n",
        "    # Step 5: Apply DCT on LL\n",
        "    dct_LL = cv2.dct(LL)\n",
        "\n",
        "    # Step 6: Normalize watermark\n",
        "    watermark_norm = np.float32(watermark) / 255.0\n",
        "\n",
        "    # Step 7: Embed watermark\n",
        "    dct_LL[0:128, 0:128] += alpha * watermark_norm\n",
        "\n",
        "    # Step 8: Inverse DCT and DWT\n",
        "    LL_new = cv2.idct(dct_LL)\n",
        "    Y_new = pywt.idwt2((LL_new, (LH, HL, HH)), 'haar')\n",
        "    Y_new = np.clip(Y_new, 0, 255).astype(np.uint8)\n",
        "\n",
        "    # Step 9: Merge and save color image\n",
        "    watermarked_ycrcb = cv2.merge((Y_new, Cr, Cb))\n",
        "    watermarked_bgr = cv2.cvtColor(watermarked_ycrcb, cv2.COLOR_YCrCb2BGR)\n",
        "    cv2.imwrite(output_path, watermarked_bgr)\n",
        "\n",
        "    print(f\"Watermark embedded successfully → {output_path}\")\n",
        "\n",
        "if __name__ == \"__main__\":\n",
        "    hybrid_dwt_dct_embed_color(\n",
        "        cover_path=\"cover.jpeg\",\n",
        "        watermark_path=\"logo.png\",\n",
        "        output_path=\"watermarked.png\",\n",
        "        alpha=0.1\n",
        "    )\n"
      ],
      "metadata": {
        "colab": {
          "base_uri": "https://localhost:8080/"
        },
        "id": "qs5f6hVY5QR9",
        "outputId": "6368bdc1-4140-4a26-88ad-3d8527f34c95"
      },
      "execution_count": 6,
      "outputs": [
        {
          "output_type": "stream",
          "name": "stdout",
          "text": [
            "Watermark embedded successfully → watermarked.png\n"
          ]
        }
      ]
    },
    {
      "cell_type": "markdown",
      "source": [
        "**HYBRID DETECTION**"
      ],
      "metadata": {
        "id": "Z3T4gHW80ssD"
      }
    },
    {
      "cell_type": "code",
      "source": [
        "# hybrid_dwt_dct_detect_color.py\n",
        "import cv2\n",
        "import numpy as np\n",
        "import pywt\n",
        "\n",
        "def hybrid_dwt_dct_detect_color(cover_path, watermarked_path, watermark_path, extracted_path, alpha=0.1, threshold=0.25):\n",
        "    # Step 1: Load images\n",
        "    cover = cv2.imread(cover_path)\n",
        "    watermarked = cv2.imread(watermarked_path)\n",
        "    watermark = cv2.imread(watermark_path, cv2.IMREAD_GRAYSCALE)\n",
        "    if cover is None or watermarked is None or watermark is None:\n",
        "        raise FileNotFoundError(\"Check your file paths!\")\n",
        "\n",
        "    # Step 2: Resize\n",
        "    cover = cv2.resize(cover, (512, 512))\n",
        "    watermarked = cv2.resize(watermarked, (512, 512))\n",
        "    watermark = cv2.resize(watermark, (128, 128))\n",
        "\n",
        "    # Step 3: Extract Y channels\n",
        "    Y_cover = cv2.cvtColor(cover, cv2.COLOR_BGR2YCrCb)[:, :, 0]\n",
        "    Y_watermarked = cv2.cvtColor(watermarked, cv2.COLOR_BGR2YCrCb)[:, :, 0]\n",
        "\n",
        "    # Step 4: Apply DWT on both\n",
        "    LL_c, (LH_c, HL_c, HH_c) = pywt.dwt2(np.float32(Y_cover), 'haar')\n",
        "    LL_w, (LH_w, HL_w, HH_w) = pywt.dwt2(np.float32(Y_watermarked), 'haar')\n",
        "\n",
        "    # Step 5: Apply DCT\n",
        "    dct_LL_c = cv2.dct(LL_c)\n",
        "    dct_LL_w = cv2.dct(LL_w)\n",
        "\n",
        "    # Step 6: Extract watermark\n",
        "    extracted = (dct_LL_w[0:128, 0:128] - dct_LL_c[0:128, 0:128]) / alpha\n",
        "    extracted = np.clip(extracted, 0, 1)\n",
        "    extracted = (extracted * 255).astype(np.uint8)\n",
        "\n",
        "    # Step 7: Save extracted watermark\n",
        "    cv2.imwrite(extracted_path, extracted)\n",
        "    print(f\"Extracted watermark saved → {extracted_path}\")\n",
        "\n",
        "    # Step 8: Compute correlation\n",
        "    extracted_resized = cv2.resize(extracted, (128, 128))\n",
        "    watermark = cv2.resize(watermark, (128, 128))\n",
        "\n",
        "    extracted_norm = (extracted_resized - np.mean(extracted_resized)) / (np.std(extracted_resized) + 1e-6)\n",
        "    watermark_norm = (watermark - np.mean(watermark)) / (np.std(watermark) + 1e-6)\n",
        "    correlation = np.mean(extracted_norm * watermark_norm)\n",
        "\n",
        "    if correlation > threshold:\n",
        "        print(f\"Watermark detected! Correlation = {correlation:.3f}\")\n",
        "    else:\n",
        "        print(f\"Watermark not detected. Correlation = {correlation:.3f}\")\n",
        "\n",
        "if __name__ == \"__main__\":\n",
        "    hybrid_dwt_dct_detect_color(\n",
        "        cover_path=\"cover.jpeg\",\n",
        "        watermarked_path=\"watermarked.png\",\n",
        "        watermark_path=\"logo.png\",\n",
        "        extracted_path=\"extracted.png\",\n",
        "        alpha=0.1,\n",
        "        threshold=0.25\n",
        "    )\n"
      ],
      "metadata": {
        "colab": {
          "base_uri": "https://localhost:8080/"
        },
        "id": "2gqn9Kyi0vfo",
        "outputId": "106d28fc-9d92-4eaf-904e-0dfac9b3d239"
      },
      "execution_count": 8,
      "outputs": [
        {
          "output_type": "stream",
          "name": "stdout",
          "text": [
            "Extracted watermark saved → extracted.png\n",
            "Watermark detected! Correlation = 0.290\n"
          ]
        }
      ]
    }
  ]
}