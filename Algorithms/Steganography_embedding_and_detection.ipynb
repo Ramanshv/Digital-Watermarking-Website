{
  "nbformat": 4,
  "nbformat_minor": 0,
  "metadata": {
    "colab": {
      "provenance": []
    },
    "kernelspec": {
      "name": "python3",
      "display_name": "Python 3"
    },
    "language_info": {
      "name": "python"
    }
  },
  "cells": [
    {
      "cell_type": "markdown",
      "source": [
        "**LSB STEGANOGRAPHY EMBEDDING**"
      ],
      "metadata": {
        "id": "oD8SVietL6gQ"
      }
    },
    {
      "cell_type": "code",
      "source": [
        "!pip -q install pillow\n",
        "from PIL import Image\n",
        "import numpy as np\n",
        "\n",
        "def _text_to_bits(text):\n",
        "    bits = []\n",
        "    for b in text.encode('utf-8'):\n",
        "        bits.extend(f'{b:08b}')\n",
        "    return bits\n",
        "\n",
        "def _int_to_32bits(n):\n",
        "    return list(f'{n:032b}')\n",
        "\n",
        "def encode_lsb(cover_path, secret_text, output_path='stego_output.png'):\n",
        "    img = Image.open(cover_path)\n",
        "    if img.mode != 'RGB':\n",
        "        img = img.convert('RGB')\n",
        "    arr = np.array(img)\n",
        "    h, w, c = arr.shape\n",
        "    capacity_bits = h * w * c\n",
        "\n",
        "    msg_bytes = secret_text.encode('utf-8')\n",
        "    msg_len = len(msg_bytes)\n",
        "    msg_bits = _text_to_bits(secret_text)\n",
        "    header_bits = _int_to_32bits(msg_len)\n",
        "    payload_bits = header_bits + msg_bits\n",
        "\n",
        "    if len(payload_bits) > capacity_bits:\n",
        "        raise ValueError(f\"Message too large! Capacity = {capacity_bits} bits, Required = {len(payload_bits)} bits\")\n",
        "\n",
        "    flat = arr.flatten()\n",
        "    for i, bit in enumerate(payload_bits):\n",
        "        flat[i] = np.uint8((int(flat[i]) & ~1) | int(bit))\n",
        "\n",
        "    stego_arr = flat.reshape(arr.shape)\n",
        "    stego_img = Image.fromarray(stego_arr.astype(np.uint8))\n",
        "    stego_img.save(output_path, format='PNG')\n",
        "\n",
        "    print(f\"Stego image created successfully!\")\n",
        "    print(f\"Saved as: {output_path}\")\n",
        "    print(f\"Hidden message length: {msg_len} bytes\")\n",
        "\n",
        "cover_path = \"cover.jpeg\"\n",
        "secret_message = \"This is CrypticCanvas secret message\"\n",
        "output_path = \"stego_output.png\"\n",
        "\n",
        "encode_lsb(cover_path, secret_message, output_path)\n"
      ],
      "metadata": {
        "colab": {
          "base_uri": "https://localhost:8080/"
        },
        "id": "RsUqvM95L-cr",
        "outputId": "9fdb438e-cd4e-422d-eb24-ac579a3395c9"
      },
      "execution_count": 14,
      "outputs": [
        {
          "output_type": "stream",
          "name": "stdout",
          "text": [
            "Stego image created successfully!\n",
            "Saved as: stego_output.png\n",
            "Hidden message length: 36 bytes\n"
          ]
        }
      ]
    },
    {
      "cell_type": "markdown",
      "source": [
        "**LSB STEGANOGRAPHY DETECTION**"
      ],
      "metadata": {
        "id": "IMjy7z4sMFiP"
      }
    },
    {
      "cell_type": "code",
      "source": [
        "!pip -q install pillow\n",
        "from PIL import Image\n",
        "import numpy as np\n",
        "\n",
        "def _bits_from_array(arr):\n",
        "    flat = arr.flatten()\n",
        "    return [str(int(x) & 1) for x in flat]\n",
        "\n",
        "def _bits_to_text(bits):\n",
        "    out = bytearray()\n",
        "    for i in range(0, len(bits), 8):\n",
        "        out.append(int(''.join(bits[i:i+8]), 2))\n",
        "    return out.decode('utf-8', errors='replace')\n",
        "\n",
        "def decode_lsb(stego_path):\n",
        "    img = Image.open(stego_path)\n",
        "    if img.mode != 'RGB':\n",
        "        img = img.convert('RGB')\n",
        "    arr = np.array(img)\n",
        "    bits = _bits_from_array(arr)\n",
        "\n",
        "    header = ''.join(bits[:32])\n",
        "    msg_len = int(header, 2)\n",
        "    msg_bits = bits[32:32 + msg_len * 8]\n",
        "    message = _bits_to_text(msg_bits)\n",
        "    return message\n",
        "\n",
        "stego_path = \"stego_output.png\"\n",
        "decoded_message = decode_lsb(stego_path)\n",
        "print(\"\\n Extracted Hidden Message:\")\n",
        "print(decoded_message)\n"
      ],
      "metadata": {
        "colab": {
          "base_uri": "https://localhost:8080/"
        },
        "id": "CVOv9ajTMJEW",
        "outputId": "201f643a-c36b-4e42-cfb3-91abdfe8422d"
      },
      "execution_count": 15,
      "outputs": [
        {
          "output_type": "stream",
          "name": "stdout",
          "text": [
            "\n",
            " Extracted Hidden Message:\n",
            "This is CrypticCanvas secret message\n"
          ]
        }
      ]
    }
  ]
}